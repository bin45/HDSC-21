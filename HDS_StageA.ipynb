{
  "nbformat": 4,
  "nbformat_minor": 0,
  "metadata": {
    "colab": {
      "name": "HDS_StageA.ipynb",
      "provenance": [],
      "collapsed_sections": []
    },
    "kernelspec": {
      "name": "python3",
      "display_name": "Python 3"
    },
    "language_info": {
      "name": "python"
    }
  },
  "cells": [
    {
      "cell_type": "code",
      "metadata": {
        "id": "gT6UhI7PV8Ek"
      },
      "source": [
        "import pandas as pd\n",
        "import numpy as np\n",
        "import matplotlib.pyplot as plt\n"
      ],
      "execution_count": 1,
      "outputs": []
    },
    {
      "cell_type": "code",
      "metadata": {
        "colab": {
          "base_uri": "https://localhost:8080/",
          "height": 217
        },
        "id": "q4PrAO9Ka40a",
        "outputId": "b9acbb8c-5b3e-40fc-b575-cb09958d6151"
      },
      "source": [
        "url='https://raw.githubusercontent.com/WalePhenomenon/climate_change/master/fuel_ferc1.csv'\n",
        "df=pd.read_csv(url)\n",
        "df.head()"
      ],
      "execution_count": 2,
      "outputs": [
        {
          "output_type": "execute_result",
          "data": {
            "text/html": [
              "<div>\n",
              "<style scoped>\n",
              "    .dataframe tbody tr th:only-of-type {\n",
              "        vertical-align: middle;\n",
              "    }\n",
              "\n",
              "    .dataframe tbody tr th {\n",
              "        vertical-align: top;\n",
              "    }\n",
              "\n",
              "    .dataframe thead th {\n",
              "        text-align: right;\n",
              "    }\n",
              "</style>\n",
              "<table border=\"1\" class=\"dataframe\">\n",
              "  <thead>\n",
              "    <tr style=\"text-align: right;\">\n",
              "      <th></th>\n",
              "      <th>record_id</th>\n",
              "      <th>utility_id_ferc1</th>\n",
              "      <th>report_year</th>\n",
              "      <th>plant_name_ferc1</th>\n",
              "      <th>fuel_type_code_pudl</th>\n",
              "      <th>fuel_unit</th>\n",
              "      <th>fuel_qty_burned</th>\n",
              "      <th>fuel_mmbtu_per_unit</th>\n",
              "      <th>fuel_cost_per_unit_burned</th>\n",
              "      <th>fuel_cost_per_unit_delivered</th>\n",
              "      <th>fuel_cost_per_mmbtu</th>\n",
              "    </tr>\n",
              "  </thead>\n",
              "  <tbody>\n",
              "    <tr>\n",
              "      <th>0</th>\n",
              "      <td>f1_fuel_1994_12_1_0_7</td>\n",
              "      <td>1</td>\n",
              "      <td>1994</td>\n",
              "      <td>rockport</td>\n",
              "      <td>coal</td>\n",
              "      <td>ton</td>\n",
              "      <td>5377489.0</td>\n",
              "      <td>16.590</td>\n",
              "      <td>18.59</td>\n",
              "      <td>18.53</td>\n",
              "      <td>1.121</td>\n",
              "    </tr>\n",
              "    <tr>\n",
              "      <th>1</th>\n",
              "      <td>f1_fuel_1994_12_1_0_10</td>\n",
              "      <td>1</td>\n",
              "      <td>1994</td>\n",
              "      <td>rockport total plant</td>\n",
              "      <td>coal</td>\n",
              "      <td>ton</td>\n",
              "      <td>10486945.0</td>\n",
              "      <td>16.592</td>\n",
              "      <td>18.58</td>\n",
              "      <td>18.53</td>\n",
              "      <td>1.120</td>\n",
              "    </tr>\n",
              "    <tr>\n",
              "      <th>2</th>\n",
              "      <td>f1_fuel_1994_12_2_0_1</td>\n",
              "      <td>2</td>\n",
              "      <td>1994</td>\n",
              "      <td>gorgas</td>\n",
              "      <td>coal</td>\n",
              "      <td>ton</td>\n",
              "      <td>2978683.0</td>\n",
              "      <td>24.130</td>\n",
              "      <td>39.72</td>\n",
              "      <td>38.12</td>\n",
              "      <td>1.650</td>\n",
              "    </tr>\n",
              "    <tr>\n",
              "      <th>3</th>\n",
              "      <td>f1_fuel_1994_12_2_0_7</td>\n",
              "      <td>2</td>\n",
              "      <td>1994</td>\n",
              "      <td>barry</td>\n",
              "      <td>coal</td>\n",
              "      <td>ton</td>\n",
              "      <td>3739484.0</td>\n",
              "      <td>23.950</td>\n",
              "      <td>47.21</td>\n",
              "      <td>45.99</td>\n",
              "      <td>1.970</td>\n",
              "    </tr>\n",
              "    <tr>\n",
              "      <th>4</th>\n",
              "      <td>f1_fuel_1994_12_2_0_10</td>\n",
              "      <td>2</td>\n",
              "      <td>1994</td>\n",
              "      <td>chickasaw</td>\n",
              "      <td>gas</td>\n",
              "      <td>mcf</td>\n",
              "      <td>40533.0</td>\n",
              "      <td>1.000</td>\n",
              "      <td>2.77</td>\n",
              "      <td>2.77</td>\n",
              "      <td>2.570</td>\n",
              "    </tr>\n",
              "  </tbody>\n",
              "</table>\n",
              "</div>"
            ],
            "text/plain": [
              "                record_id  ...  fuel_cost_per_mmbtu\n",
              "0   f1_fuel_1994_12_1_0_7  ...                1.121\n",
              "1  f1_fuel_1994_12_1_0_10  ...                1.120\n",
              "2   f1_fuel_1994_12_2_0_1  ...                1.650\n",
              "3   f1_fuel_1994_12_2_0_7  ...                1.970\n",
              "4  f1_fuel_1994_12_2_0_10  ...                2.570\n",
              "\n",
              "[5 rows x 11 columns]"
            ]
          },
          "metadata": {},
          "execution_count": 2
        }
      ]
    },
    {
      "cell_type": "markdown",
      "metadata": {
        "id": "MevIbTy_dHPz"
      },
      "source": [
        "Q1"
      ]
    },
    {
      "cell_type": "code",
      "metadata": {
        "id": "GYeVOtjAc0P1"
      },
      "source": [
        "A = [1,2,3,4,5,6]\n",
        "B =[13, 21, 34]"
      ],
      "execution_count": 3,
      "outputs": []
    },
    {
      "cell_type": "code",
      "metadata": {
        "colab": {
          "base_uri": "https://localhost:8080/"
        },
        "id": "UV0ypz2zdEq_",
        "outputId": "4806e11e-815e-4c7d-b126-bf7d843daa4f"
      },
      "source": [
        "A.append(B)\n",
        "print(A)"
      ],
      "execution_count": 4,
      "outputs": [
        {
          "output_type": "stream",
          "text": [
            "[1, 2, 3, 4, 5, 6, [13, 21, 34]]\n"
          ],
          "name": "stdout"
        }
      ]
    },
    {
      "cell_type": "code",
      "metadata": {
        "colab": {
          "base_uri": "https://localhost:8080/"
        },
        "id": "PxoVwlo8c4BM",
        "outputId": "47c4d7db-db8d-4ea7-d098-f9918b65bc4c"
      },
      "source": [
        "A.extend(B)\n",
        "print(A)"
      ],
      "execution_count": 5,
      "outputs": [
        {
          "output_type": "stream",
          "text": [
            "[1, 2, 3, 4, 5, 6, [13, 21, 34], 13, 21, 34]\n"
          ],
          "name": "stdout"
        }
      ]
    },
    {
      "cell_type": "markdown",
      "metadata": {
        "id": "fxD6hFAbey1Z"
      },
      "source": [
        "Q2"
      ]
    },
    {
      "cell_type": "code",
      "metadata": {
        "colab": {
          "base_uri": "https://localhost:8080/"
        },
        "id": "lKVtvd8Id6rH",
        "outputId": "c39c295c-6a56-4ec8-c31a-cb36b3f88e36"
      },
      "source": [
        "np.identity(3)"
      ],
      "execution_count": 6,
      "outputs": [
        {
          "output_type": "execute_result",
          "data": {
            "text/plain": [
              "array([[1., 0., 0.],\n",
              "       [0., 1., 0.],\n",
              "       [0., 0., 1.]])"
            ]
          },
          "metadata": {},
          "execution_count": 6
        }
      ]
    },
    {
      "cell_type": "markdown",
      "metadata": {
        "id": "PG3sJQcEfAtg"
      },
      "source": [
        "Q3"
      ]
    },
    {
      "cell_type": "code",
      "metadata": {
        "colab": {
          "base_uri": "https://localhost:8080/"
        },
        "id": "vINWoskKetsK",
        "outputId": "3c9cdc1f-ab74-4a2b-b298-81aa92d8d968"
      },
      "source": [
        "df.groupby(['fuel_type_code_pudl']).mean()['fuel_cost_per_unit_burned'].sort_values()"
      ],
      "execution_count": 7,
      "outputs": [
        {
          "output_type": "execute_result",
          "data": {
            "text/plain": [
              "fuel_type_code_pudl\n",
              "gas          13.659397\n",
              "other        18.253856\n",
              "waste        19.518122\n",
              "coal         67.421830\n",
              "oil         168.877086\n",
              "nuclear    4955.157002\n",
              "Name: fuel_cost_per_unit_burned, dtype: float64"
            ]
          },
          "metadata": {},
          "execution_count": 7
        }
      ]
    },
    {
      "cell_type": "markdown",
      "metadata": {
        "id": "KFnYP_zDfpWr"
      },
      "source": [
        "Q4"
      ]
    },
    {
      "cell_type": "code",
      "metadata": {
        "colab": {
          "base_uri": "https://localhost:8080/"
        },
        "id": "aIKf7mqPflDD",
        "outputId": "04b19d90-08de-4cfe-9dda-304b33d91239"
      },
      "source": [
        "np.round(df['fuel_mmbtu_per_unit'].std(),2)"
      ],
      "execution_count": 8,
      "outputs": [
        {
          "output_type": "execute_result",
          "data": {
            "text/plain": [
              "10.6"
            ]
          },
          "metadata": {},
          "execution_count": 8
        }
      ]
    },
    {
      "cell_type": "code",
      "metadata": {
        "colab": {
          "base_uri": "https://localhost:8080/"
        },
        "id": "BWS6IFIvfz6b",
        "outputId": "22697dea-769c-43d2-ef1f-69b1f97a9a7d"
      },
      "source": [
        "np.round(np.quantile(df['fuel_mmbtu_per_unit'],0.75),2)"
      ],
      "execution_count": 9,
      "outputs": [
        {
          "output_type": "execute_result",
          "data": {
            "text/plain": [
              "17.01"
            ]
          },
          "metadata": {},
          "execution_count": 9
        }
      ]
    },
    {
      "cell_type": "markdown",
      "metadata": {
        "id": "vYZzmwKaf4Bp"
      },
      "source": [
        "Q5"
      ]
    },
    {
      "cell_type": "code",
      "metadata": {
        "colab": {
          "base_uri": "https://localhost:8080/"
        },
        "id": "aiqEbiP1f8x8",
        "outputId": "c3af8ab2-dd29-474c-e873-05f01bca927f"
      },
      "source": [
        "np.round(df['fuel_qty_burned'].skew(),2)"
      ],
      "execution_count": 10,
      "outputs": [
        {
          "output_type": "execute_result",
          "data": {
            "text/plain": [
              "15.85"
            ]
          },
          "metadata": {},
          "execution_count": 10
        }
      ]
    },
    {
      "cell_type": "code",
      "metadata": {
        "colab": {
          "base_uri": "https://localhost:8080/"
        },
        "id": "GQ3G-komgLKq",
        "outputId": "4ac015b0-85b4-4c79-d55f-bfbb1a637881"
      },
      "source": [
        "np.round(df['fuel_qty_burned'].kurtosis(),2)"
      ],
      "execution_count": 11,
      "outputs": [
        {
          "output_type": "execute_result",
          "data": {
            "text/plain": [
              "651.37"
            ]
          },
          "metadata": {},
          "execution_count": 11
        }
      ]
    },
    {
      "cell_type": "markdown",
      "metadata": {
        "id": "jp2x9ewggNmh"
      },
      "source": [
        "Q6"
      ]
    },
    {
      "cell_type": "code",
      "metadata": {
        "colab": {
          "base_uri": "https://localhost:8080/"
        },
        "id": "CL68G4ArgQvL",
        "outputId": "47219ad9-a394-43d6-a0b5-69abd064c8ec"
      },
      "source": [
        "df.isnull().sum()"
      ],
      "execution_count": 12,
      "outputs": [
        {
          "output_type": "execute_result",
          "data": {
            "text/plain": [
              "record_id                         0\n",
              "utility_id_ferc1                  0\n",
              "report_year                       0\n",
              "plant_name_ferc1                  0\n",
              "fuel_type_code_pudl               0\n",
              "fuel_unit                       180\n",
              "fuel_qty_burned                   0\n",
              "fuel_mmbtu_per_unit               0\n",
              "fuel_cost_per_unit_burned         0\n",
              "fuel_cost_per_unit_delivered      0\n",
              "fuel_cost_per_mmbtu               0\n",
              "dtype: int64"
            ]
          },
          "metadata": {},
          "execution_count": 12
        }
      ]
    },
    {
      "cell_type": "code",
      "metadata": {
        "colab": {
          "base_uri": "https://localhost:8080/"
        },
        "id": "Kt4TmhYsgjxR",
        "outputId": "c4616442-3a69-4e44-f58c-41229d0ce3d9"
      },
      "source": [
        "df.shape"
      ],
      "execution_count": 13,
      "outputs": [
        {
          "output_type": "execute_result",
          "data": {
            "text/plain": [
              "(29523, 11)"
            ]
          },
          "metadata": {},
          "execution_count": 13
        }
      ]
    },
    {
      "cell_type": "code",
      "metadata": {
        "colab": {
          "base_uri": "https://localhost:8080/"
        },
        "id": "xNXuP2bFgmZ9",
        "outputId": "2edfb373-9bf3-4e0d-d8d5-e8277f14babe"
      },
      "source": [
        "np.round(((180/29523)*100),3)"
      ],
      "execution_count": 14,
      "outputs": [
        {
          "output_type": "execute_result",
          "data": {
            "text/plain": [
              "0.61"
            ]
          },
          "metadata": {},
          "execution_count": 14
        }
      ]
    },
    {
      "cell_type": "markdown",
      "metadata": {
        "id": "qkgoaPCXg2oO"
      },
      "source": [
        "Q7"
      ]
    },
    {
      "cell_type": "code",
      "metadata": {
        "colab": {
          "base_uri": "https://localhost:8080/"
        },
        "id": "S0Wz_Migg5OJ",
        "outputId": "02568e68-f92a-4d8d-c761-29f14d47f9a8"
      },
      "source": [
        "categ=(df.dtypes=='object')\n",
        "object_col=list(categ[categ].index)\n",
        "print('categorical variable')\n",
        "print(object_col)"
      ],
      "execution_count": 15,
      "outputs": [
        {
          "output_type": "stream",
          "text": [
            "categorical variable\n",
            "['record_id', 'plant_name_ferc1', 'fuel_type_code_pudl', 'fuel_unit']\n"
          ],
          "name": "stdout"
        }
      ]
    },
    {
      "cell_type": "markdown",
      "metadata": {
        "id": "4LocG-y_hPBM"
      },
      "source": [
        "Q8"
      ]
    },
    {
      "cell_type": "code",
      "metadata": {
        "colab": {
          "base_uri": "https://localhost:8080/"
        },
        "id": "3VlXS4sFhS6N",
        "outputId": "99855fa8-d71b-4751-9fb3-17ac15fb8770"
      },
      "source": [
        "df.corr()['fuel_cost_per_unit_burned'].sort_values()"
      ],
      "execution_count": 16,
      "outputs": [
        {
          "output_type": "execute_result",
          "data": {
            "text/plain": [
              "utility_id_ferc1               -0.037863\n",
              "fuel_qty_burned                -0.018535\n",
              "fuel_mmbtu_per_unit            -0.010034\n",
              "fuel_cost_per_mmbtu            -0.000437\n",
              "fuel_cost_per_unit_delivered    0.011007\n",
              "report_year                     0.013599\n",
              "fuel_cost_per_unit_burned       1.000000\n",
              "Name: fuel_cost_per_unit_burned, dtype: float64"
            ]
          },
          "metadata": {},
          "execution_count": 16
        }
      ]
    },
    {
      "cell_type": "markdown",
      "metadata": {
        "id": "6asIbODqhnDh"
      },
      "source": [
        "Q9"
      ]
    },
    {
      "cell_type": "code",
      "metadata": {
        "id": "0vje-p05hsak"
      },
      "source": [
        "coal_1=df[df['fuel_type_code_pudl']=='coal']"
      ],
      "execution_count": 17,
      "outputs": []
    },
    {
      "cell_type": "code",
      "metadata": {
        "colab": {
          "base_uri": "https://localhost:8080/"
        },
        "id": "lL9RzG6Ph_HI",
        "outputId": "2068c3b9-d09a-4ce0-b1f4-f3c959d9c620"
      },
      "source": [
        "coal_1.groupby(['report_year']).sum()['fuel_cost_per_unit_burned']"
      ],
      "execution_count": 18,
      "outputs": [
        {
          "output_type": "execute_result",
          "data": {
            "text/plain": [
              "report_year\n",
              "1994     14984.572\n",
              "1995     14571.785\n",
              "1996     12694.803\n",
              "1997     43742.178\n",
              "1998     11902.597\n",
              "1999     16303.468\n",
              "2000    100428.831\n",
              "2001     15109.012\n",
              "2002      9171.164\n",
              "2003     30954.110\n",
              "2004      9632.063\n",
              "2005     11107.182\n",
              "2006     12402.684\n",
              "2007     12965.171\n",
              "2008     14331.348\n",
              "2009     45554.858\n",
              "2010     88627.745\n",
              "2011     17001.015\n",
              "2012     17546.097\n",
              "2013     17629.860\n",
              "2014     15412.197\n",
              "2015     13338.235\n",
              "2016     11100.925\n",
              "2017     10254.284\n",
              "2018      9488.197\n",
              "Name: fuel_cost_per_unit_burned, dtype: float64"
            ]
          },
          "metadata": {},
          "execution_count": 18
        }
      ]
    },
    {
      "cell_type": "code",
      "metadata": {
        "colab": {
          "base_uri": "https://localhost:8080/"
        },
        "id": "YZwp_HrZiIrC",
        "outputId": "871039f2-f8c3-42f6-c7e1-6b832989edbb"
      },
      "source": [
        "np.round(((11902.597-14984.572)/14984.572)*100)"
      ],
      "execution_count": 19,
      "outputs": [
        {
          "output_type": "execute_result",
          "data": {
            "text/plain": [
              "-21.0"
            ]
          },
          "metadata": {},
          "execution_count": 19
        }
      ]
    },
    {
      "cell_type": "markdown",
      "metadata": {
        "id": "2h5KPqiDiQ_p"
      },
      "source": [
        "Q10"
      ]
    },
    {
      "cell_type": "code",
      "metadata": {
        "colab": {
          "base_uri": "https://localhost:8080/"
        },
        "id": "SPC6g8GBiTBL",
        "outputId": "aab01cd5-5db0-45a9-dc8a-2bd8f4112568"
      },
      "source": [
        "df.groupby(['report_year']).mean()['fuel_cost_per_unit_delivered'].sort_values(ascending=False)"
      ],
      "execution_count": 20,
      "outputs": [
        {
          "output_type": "execute_result",
          "data": {
            "text/plain": [
              "report_year\n",
              "1997    11140.197239\n",
              "1996     9196.705948\n",
              "2000      985.362877\n",
              "2009      652.694163\n",
              "2018      499.269966\n",
              "2015      326.535511\n",
              "1998      287.154420\n",
              "2014      192.737183\n",
              "2013      172.307591\n",
              "2004      139.524275\n",
              "2016      103.901761\n",
              "2010       91.862105\n",
              "1994       63.636060\n",
              "2012       60.994502\n",
              "2001       60.050396\n",
              "2011       59.774667\n",
              "2008       58.588197\n",
              "2003       55.663493\n",
              "2002       47.594361\n",
              "2017       46.196861\n",
              "2007       43.325023\n",
              "2005       41.438184\n",
              "2006       38.657484\n",
              "1995       32.735269\n",
              "1999       25.551627\n",
              "Name: fuel_cost_per_unit_delivered, dtype: float64"
            ]
          },
          "metadata": {},
          "execution_count": 20
        }
      ]
    },
    {
      "cell_type": "code",
      "metadata": {
        "id": "Kaxsed2Ej-UW"
      },
      "source": [
        ""
      ],
      "execution_count": 20,
      "outputs": []
    },
    {
      "cell_type": "code",
      "metadata": {
        "id": "DGjkWO_Wj-63"
      },
      "source": [
        ""
      ],
      "execution_count": 20,
      "outputs": []
    },
    {
      "cell_type": "markdown",
      "metadata": {
        "id": "S54nqbE_kAkt"
      },
      "source": [
        "Basic Data Exploration"
      ]
    },
    {
      "cell_type": "code",
      "metadata": {
        "colab": {
          "base_uri": "https://localhost:8080/",
          "height": 217
        },
        "id": "iksX2M0wlmDA",
        "outputId": "7f82f750-ab77-4cf7-c61d-17aecade605e"
      },
      "source": [
        "df.head()"
      ],
      "execution_count": 21,
      "outputs": [
        {
          "output_type": "execute_result",
          "data": {
            "text/html": [
              "<div>\n",
              "<style scoped>\n",
              "    .dataframe tbody tr th:only-of-type {\n",
              "        vertical-align: middle;\n",
              "    }\n",
              "\n",
              "    .dataframe tbody tr th {\n",
              "        vertical-align: top;\n",
              "    }\n",
              "\n",
              "    .dataframe thead th {\n",
              "        text-align: right;\n",
              "    }\n",
              "</style>\n",
              "<table border=\"1\" class=\"dataframe\">\n",
              "  <thead>\n",
              "    <tr style=\"text-align: right;\">\n",
              "      <th></th>\n",
              "      <th>record_id</th>\n",
              "      <th>utility_id_ferc1</th>\n",
              "      <th>report_year</th>\n",
              "      <th>plant_name_ferc1</th>\n",
              "      <th>fuel_type_code_pudl</th>\n",
              "      <th>fuel_unit</th>\n",
              "      <th>fuel_qty_burned</th>\n",
              "      <th>fuel_mmbtu_per_unit</th>\n",
              "      <th>fuel_cost_per_unit_burned</th>\n",
              "      <th>fuel_cost_per_unit_delivered</th>\n",
              "      <th>fuel_cost_per_mmbtu</th>\n",
              "    </tr>\n",
              "  </thead>\n",
              "  <tbody>\n",
              "    <tr>\n",
              "      <th>0</th>\n",
              "      <td>f1_fuel_1994_12_1_0_7</td>\n",
              "      <td>1</td>\n",
              "      <td>1994</td>\n",
              "      <td>rockport</td>\n",
              "      <td>coal</td>\n",
              "      <td>ton</td>\n",
              "      <td>5377489.0</td>\n",
              "      <td>16.590</td>\n",
              "      <td>18.59</td>\n",
              "      <td>18.53</td>\n",
              "      <td>1.121</td>\n",
              "    </tr>\n",
              "    <tr>\n",
              "      <th>1</th>\n",
              "      <td>f1_fuel_1994_12_1_0_10</td>\n",
              "      <td>1</td>\n",
              "      <td>1994</td>\n",
              "      <td>rockport total plant</td>\n",
              "      <td>coal</td>\n",
              "      <td>ton</td>\n",
              "      <td>10486945.0</td>\n",
              "      <td>16.592</td>\n",
              "      <td>18.58</td>\n",
              "      <td>18.53</td>\n",
              "      <td>1.120</td>\n",
              "    </tr>\n",
              "    <tr>\n",
              "      <th>2</th>\n",
              "      <td>f1_fuel_1994_12_2_0_1</td>\n",
              "      <td>2</td>\n",
              "      <td>1994</td>\n",
              "      <td>gorgas</td>\n",
              "      <td>coal</td>\n",
              "      <td>ton</td>\n",
              "      <td>2978683.0</td>\n",
              "      <td>24.130</td>\n",
              "      <td>39.72</td>\n",
              "      <td>38.12</td>\n",
              "      <td>1.650</td>\n",
              "    </tr>\n",
              "    <tr>\n",
              "      <th>3</th>\n",
              "      <td>f1_fuel_1994_12_2_0_7</td>\n",
              "      <td>2</td>\n",
              "      <td>1994</td>\n",
              "      <td>barry</td>\n",
              "      <td>coal</td>\n",
              "      <td>ton</td>\n",
              "      <td>3739484.0</td>\n",
              "      <td>23.950</td>\n",
              "      <td>47.21</td>\n",
              "      <td>45.99</td>\n",
              "      <td>1.970</td>\n",
              "    </tr>\n",
              "    <tr>\n",
              "      <th>4</th>\n",
              "      <td>f1_fuel_1994_12_2_0_10</td>\n",
              "      <td>2</td>\n",
              "      <td>1994</td>\n",
              "      <td>chickasaw</td>\n",
              "      <td>gas</td>\n",
              "      <td>mcf</td>\n",
              "      <td>40533.0</td>\n",
              "      <td>1.000</td>\n",
              "      <td>2.77</td>\n",
              "      <td>2.77</td>\n",
              "      <td>2.570</td>\n",
              "    </tr>\n",
              "  </tbody>\n",
              "</table>\n",
              "</div>"
            ],
            "text/plain": [
              "                record_id  ...  fuel_cost_per_mmbtu\n",
              "0   f1_fuel_1994_12_1_0_7  ...                1.121\n",
              "1  f1_fuel_1994_12_1_0_10  ...                1.120\n",
              "2   f1_fuel_1994_12_2_0_1  ...                1.650\n",
              "3   f1_fuel_1994_12_2_0_7  ...                1.970\n",
              "4  f1_fuel_1994_12_2_0_10  ...                2.570\n",
              "\n",
              "[5 rows x 11 columns]"
            ]
          },
          "metadata": {},
          "execution_count": 21
        }
      ]
    },
    {
      "cell_type": "code",
      "metadata": {
        "colab": {
          "base_uri": "https://localhost:8080/",
          "height": 234
        },
        "id": "t491s-TtmINz",
        "outputId": "90939667-f7e0-458e-ea1e-737cbbe6a73c"
      },
      "source": [
        "df.tail()"
      ],
      "execution_count": 22,
      "outputs": [
        {
          "output_type": "execute_result",
          "data": {
            "text/html": [
              "<div>\n",
              "<style scoped>\n",
              "    .dataframe tbody tr th:only-of-type {\n",
              "        vertical-align: middle;\n",
              "    }\n",
              "\n",
              "    .dataframe tbody tr th {\n",
              "        vertical-align: top;\n",
              "    }\n",
              "\n",
              "    .dataframe thead th {\n",
              "        text-align: right;\n",
              "    }\n",
              "</style>\n",
              "<table border=\"1\" class=\"dataframe\">\n",
              "  <thead>\n",
              "    <tr style=\"text-align: right;\">\n",
              "      <th></th>\n",
              "      <th>record_id</th>\n",
              "      <th>utility_id_ferc1</th>\n",
              "      <th>report_year</th>\n",
              "      <th>plant_name_ferc1</th>\n",
              "      <th>fuel_type_code_pudl</th>\n",
              "      <th>fuel_unit</th>\n",
              "      <th>fuel_qty_burned</th>\n",
              "      <th>fuel_mmbtu_per_unit</th>\n",
              "      <th>fuel_cost_per_unit_burned</th>\n",
              "      <th>fuel_cost_per_unit_delivered</th>\n",
              "      <th>fuel_cost_per_mmbtu</th>\n",
              "    </tr>\n",
              "  </thead>\n",
              "  <tbody>\n",
              "    <tr>\n",
              "      <th>29518</th>\n",
              "      <td>f1_fuel_2018_12_12_0_13</td>\n",
              "      <td>12</td>\n",
              "      <td>2018</td>\n",
              "      <td>neil simpson ct #1</td>\n",
              "      <td>gas</td>\n",
              "      <td>mcf</td>\n",
              "      <td>18799.0</td>\n",
              "      <td>1.059</td>\n",
              "      <td>4.78</td>\n",
              "      <td>4.78</td>\n",
              "      <td>9.03</td>\n",
              "    </tr>\n",
              "    <tr>\n",
              "      <th>29519</th>\n",
              "      <td>f1_fuel_2018_12_12_1_1</td>\n",
              "      <td>12</td>\n",
              "      <td>2018</td>\n",
              "      <td>cheyenne prairie 58%</td>\n",
              "      <td>gas</td>\n",
              "      <td>mcf</td>\n",
              "      <td>806730.0</td>\n",
              "      <td>1.050</td>\n",
              "      <td>3.65</td>\n",
              "      <td>3.65</td>\n",
              "      <td>6.95</td>\n",
              "    </tr>\n",
              "    <tr>\n",
              "      <th>29520</th>\n",
              "      <td>f1_fuel_2018_12_12_1_10</td>\n",
              "      <td>12</td>\n",
              "      <td>2018</td>\n",
              "      <td>lange ct facility</td>\n",
              "      <td>gas</td>\n",
              "      <td>mcf</td>\n",
              "      <td>104554.0</td>\n",
              "      <td>1.060</td>\n",
              "      <td>4.77</td>\n",
              "      <td>4.77</td>\n",
              "      <td>8.99</td>\n",
              "    </tr>\n",
              "    <tr>\n",
              "      <th>29521</th>\n",
              "      <td>f1_fuel_2018_12_12_1_13</td>\n",
              "      <td>12</td>\n",
              "      <td>2018</td>\n",
              "      <td>wygen 3 bhp 52%</td>\n",
              "      <td>coal</td>\n",
              "      <td>ton</td>\n",
              "      <td>315945.0</td>\n",
              "      <td>16.108</td>\n",
              "      <td>3.06</td>\n",
              "      <td>14.76</td>\n",
              "      <td>1.11</td>\n",
              "    </tr>\n",
              "    <tr>\n",
              "      <th>29522</th>\n",
              "      <td>f1_fuel_2018_12_12_1_14</td>\n",
              "      <td>12</td>\n",
              "      <td>2018</td>\n",
              "      <td>wygen 3 bhp 52%</td>\n",
              "      <td>gas</td>\n",
              "      <td>mcf</td>\n",
              "      <td>17853.0</td>\n",
              "      <td>1.059</td>\n",
              "      <td>0.00</td>\n",
              "      <td>0.00</td>\n",
              "      <td>11.68</td>\n",
              "    </tr>\n",
              "  </tbody>\n",
              "</table>\n",
              "</div>"
            ],
            "text/plain": [
              "                     record_id  ...  fuel_cost_per_mmbtu\n",
              "29518  f1_fuel_2018_12_12_0_13  ...                 9.03\n",
              "29519   f1_fuel_2018_12_12_1_1  ...                 6.95\n",
              "29520  f1_fuel_2018_12_12_1_10  ...                 8.99\n",
              "29521  f1_fuel_2018_12_12_1_13  ...                 1.11\n",
              "29522  f1_fuel_2018_12_12_1_14  ...                11.68\n",
              "\n",
              "[5 rows x 11 columns]"
            ]
          },
          "metadata": {},
          "execution_count": 22
        }
      ]
    },
    {
      "cell_type": "code",
      "metadata": {
        "colab": {
          "base_uri": "https://localhost:8080/"
        },
        "id": "Wh1_6euqmM51",
        "outputId": "e855668e-9ebb-435b-bc39-97ee28de391c"
      },
      "source": [
        "df.shape"
      ],
      "execution_count": 23,
      "outputs": [
        {
          "output_type": "execute_result",
          "data": {
            "text/plain": [
              "(29523, 11)"
            ]
          },
          "metadata": {},
          "execution_count": 23
        }
      ]
    },
    {
      "cell_type": "code",
      "metadata": {
        "colab": {
          "base_uri": "https://localhost:8080/"
        },
        "id": "1beZq66YmP9g",
        "outputId": "406a7e58-4857-4c39-89a4-3a5139ac049e"
      },
      "source": [
        "df.info()"
      ],
      "execution_count": 24,
      "outputs": [
        {
          "output_type": "stream",
          "text": [
            "<class 'pandas.core.frame.DataFrame'>\n",
            "RangeIndex: 29523 entries, 0 to 29522\n",
            "Data columns (total 11 columns):\n",
            " #   Column                        Non-Null Count  Dtype  \n",
            "---  ------                        --------------  -----  \n",
            " 0   record_id                     29523 non-null  object \n",
            " 1   utility_id_ferc1              29523 non-null  int64  \n",
            " 2   report_year                   29523 non-null  int64  \n",
            " 3   plant_name_ferc1              29523 non-null  object \n",
            " 4   fuel_type_code_pudl           29523 non-null  object \n",
            " 5   fuel_unit                     29343 non-null  object \n",
            " 6   fuel_qty_burned               29523 non-null  float64\n",
            " 7   fuel_mmbtu_per_unit           29523 non-null  float64\n",
            " 8   fuel_cost_per_unit_burned     29523 non-null  float64\n",
            " 9   fuel_cost_per_unit_delivered  29523 non-null  float64\n",
            " 10  fuel_cost_per_mmbtu           29523 non-null  float64\n",
            "dtypes: float64(5), int64(2), object(4)\n",
            "memory usage: 2.5+ MB\n"
          ],
          "name": "stdout"
        }
      ]
    },
    {
      "cell_type": "code",
      "metadata": {
        "colab": {
          "base_uri": "https://localhost:8080/"
        },
        "id": "EifBqTpNnKX1",
        "outputId": "994a6b16-d674-4cfd-c45d-d0dd61c37f1a"
      },
      "source": [
        "df.isnull().sum()"
      ],
      "execution_count": 25,
      "outputs": [
        {
          "output_type": "execute_result",
          "data": {
            "text/plain": [
              "record_id                         0\n",
              "utility_id_ferc1                  0\n",
              "report_year                       0\n",
              "plant_name_ferc1                  0\n",
              "fuel_type_code_pudl               0\n",
              "fuel_unit                       180\n",
              "fuel_qty_burned                   0\n",
              "fuel_mmbtu_per_unit               0\n",
              "fuel_cost_per_unit_burned         0\n",
              "fuel_cost_per_unit_delivered      0\n",
              "fuel_cost_per_mmbtu               0\n",
              "dtype: int64"
            ]
          },
          "metadata": {},
          "execution_count": 25
        }
      ]
    },
    {
      "cell_type": "code",
      "metadata": {
        "colab": {
          "base_uri": "https://localhost:8080/"
        },
        "id": "TKizQkIanT4s",
        "outputId": "af09ca3a-7a51-4094-ebf0-4445dab94383"
      },
      "source": [
        "df_1=df.dropna(how='any')\n",
        "df_1.isnull().sum()"
      ],
      "execution_count": 26,
      "outputs": [
        {
          "output_type": "execute_result",
          "data": {
            "text/plain": [
              "record_id                       0\n",
              "utility_id_ferc1                0\n",
              "report_year                     0\n",
              "plant_name_ferc1                0\n",
              "fuel_type_code_pudl             0\n",
              "fuel_unit                       0\n",
              "fuel_qty_burned                 0\n",
              "fuel_mmbtu_per_unit             0\n",
              "fuel_cost_per_unit_burned       0\n",
              "fuel_cost_per_unit_delivered    0\n",
              "fuel_cost_per_mmbtu             0\n",
              "dtype: int64"
            ]
          },
          "metadata": {},
          "execution_count": 26
        }
      ]
    },
    {
      "cell_type": "code",
      "metadata": {
        "colab": {
          "base_uri": "https://localhost:8080/",
          "height": 287
        },
        "id": "c2VYAfF5nbfu",
        "outputId": "4ac49c43-8384-4304-ff7d-41ac09494a78"
      },
      "source": [
        "df_1.describe()"
      ],
      "execution_count": 27,
      "outputs": [
        {
          "output_type": "execute_result",
          "data": {
            "text/html": [
              "<div>\n",
              "<style scoped>\n",
              "    .dataframe tbody tr th:only-of-type {\n",
              "        vertical-align: middle;\n",
              "    }\n",
              "\n",
              "    .dataframe tbody tr th {\n",
              "        vertical-align: top;\n",
              "    }\n",
              "\n",
              "    .dataframe thead th {\n",
              "        text-align: right;\n",
              "    }\n",
              "</style>\n",
              "<table border=\"1\" class=\"dataframe\">\n",
              "  <thead>\n",
              "    <tr style=\"text-align: right;\">\n",
              "      <th></th>\n",
              "      <th>utility_id_ferc1</th>\n",
              "      <th>report_year</th>\n",
              "      <th>fuel_qty_burned</th>\n",
              "      <th>fuel_mmbtu_per_unit</th>\n",
              "      <th>fuel_cost_per_unit_burned</th>\n",
              "      <th>fuel_cost_per_unit_delivered</th>\n",
              "      <th>fuel_cost_per_mmbtu</th>\n",
              "    </tr>\n",
              "  </thead>\n",
              "  <tbody>\n",
              "    <tr>\n",
              "      <th>count</th>\n",
              "      <td>29343.000000</td>\n",
              "      <td>29343.000000</td>\n",
              "      <td>2.934300e+04</td>\n",
              "      <td>29343.000000</td>\n",
              "      <td>29343.000000</td>\n",
              "      <td>2.934300e+04</td>\n",
              "      <td>29343.000000</td>\n",
              "    </tr>\n",
              "    <tr>\n",
              "      <th>mean</th>\n",
              "      <td>118.507037</td>\n",
              "      <td>2005.819105</td>\n",
              "      <td>2.609171e+06</td>\n",
              "      <td>8.477481</td>\n",
              "      <td>209.756592</td>\n",
              "      <td>9.230343e+02</td>\n",
              "      <td>18.543975</td>\n",
              "    </tr>\n",
              "    <tr>\n",
              "      <th>std</th>\n",
              "      <td>74.241226</td>\n",
              "      <td>7.019855</td>\n",
              "      <td>8.798699e+06</td>\n",
              "      <td>10.537478</td>\n",
              "      <td>2863.194789</td>\n",
              "      <td>6.898652e+04</td>\n",
              "      <td>2097.367750</td>\n",
              "    </tr>\n",
              "    <tr>\n",
              "      <th>min</th>\n",
              "      <td>1.000000</td>\n",
              "      <td>1994.000000</td>\n",
              "      <td>1.000000e+00</td>\n",
              "      <td>0.000001</td>\n",
              "      <td>-276.080000</td>\n",
              "      <td>-8.749370e+02</td>\n",
              "      <td>-41.501000</td>\n",
              "    </tr>\n",
              "    <tr>\n",
              "      <th>25%</th>\n",
              "      <td>55.000000</td>\n",
              "      <td>2000.000000</td>\n",
              "      <td>1.375050e+04</td>\n",
              "      <td>1.024000</td>\n",
              "      <td>5.230000</td>\n",
              "      <td>3.793000e+00</td>\n",
              "      <td>1.950000</td>\n",
              "    </tr>\n",
              "    <tr>\n",
              "      <th>50%</th>\n",
              "      <td>122.000000</td>\n",
              "      <td>2006.000000</td>\n",
              "      <td>2.524640e+05</td>\n",
              "      <td>5.763072</td>\n",
              "      <td>26.039000</td>\n",
              "      <td>1.749000e+01</td>\n",
              "      <td>4.140000</td>\n",
              "    </tr>\n",
              "    <tr>\n",
              "      <th>75%</th>\n",
              "      <td>176.000000</td>\n",
              "      <td>2012.000000</td>\n",
              "      <td>1.424218e+06</td>\n",
              "      <td>17.000000</td>\n",
              "      <td>47.172000</td>\n",
              "      <td>4.220850e+01</td>\n",
              "      <td>7.752000</td>\n",
              "    </tr>\n",
              "    <tr>\n",
              "      <th>max</th>\n",
              "      <td>514.000000</td>\n",
              "      <td>2018.000000</td>\n",
              "      <td>5.558942e+08</td>\n",
              "      <td>341.260000</td>\n",
              "      <td>139358.000000</td>\n",
              "      <td>7.964521e+06</td>\n",
              "      <td>359278.000000</td>\n",
              "    </tr>\n",
              "  </tbody>\n",
              "</table>\n",
              "</div>"
            ],
            "text/plain": [
              "       utility_id_ferc1  ...  fuel_cost_per_mmbtu\n",
              "count      29343.000000  ...         29343.000000\n",
              "mean         118.507037  ...            18.543975\n",
              "std           74.241226  ...          2097.367750\n",
              "min            1.000000  ...           -41.501000\n",
              "25%           55.000000  ...             1.950000\n",
              "50%          122.000000  ...             4.140000\n",
              "75%          176.000000  ...             7.752000\n",
              "max          514.000000  ...        359278.000000\n",
              "\n",
              "[8 rows x 7 columns]"
            ]
          },
          "metadata": {},
          "execution_count": 27
        }
      ]
    },
    {
      "cell_type": "markdown",
      "metadata": {
        "id": "Oo6wTKpJo_5w"
      },
      "source": [
        "Data Visualization"
      ]
    },
    {
      "cell_type": "code",
      "metadata": {
        "id": "Pp-6MTwdp3Br"
      },
      "source": [
        "import seaborn as sns\n"
      ],
      "execution_count": 28,
      "outputs": []
    },
    {
      "cell_type": "code",
      "metadata": {
        "id": "KEDgr3Fcumgn"
      },
      "source": [
        "df_2= df.sample(n=50, random_state=4)"
      ],
      "execution_count": 29,
      "outputs": []
    },
    {
      "cell_type": "code",
      "metadata": {
        "colab": {
          "base_uri": "https://localhost:8080/",
          "height": 297
        },
        "id": "5lxAlvJPuPH0",
        "outputId": "849d82a0-7900-4e68-b338-6ebf25b59cdc"
      },
      "source": [
        "sns.kdeplot(df_2['fuel_cost_per_unit_burned'], shade=True, color=\"b\")"
      ],
      "execution_count": 30,
      "outputs": [
        {
          "output_type": "execute_result",
          "data": {
            "text/plain": [
              "<matplotlib.axes._subplots.AxesSubplot at 0x7feb78d06cd0>"
            ]
          },
          "metadata": {},
          "execution_count": 30
        },
        {
          "output_type": "display_data",
          "data": {
            "image/png": "[encoded data removed]",
            "text/plain": [
              "<Figure size 432x288 with 1 Axes>"
            ]
          },
          "metadata": {
            "needs_background": "light"
          }
        }
      ]
    },
    {
      "cell_type": "code",
      "metadata": {
        "colab": {
          "base_uri": "https://localhost:8080/",
          "height": 352
        },
        "id": "DhCBjsvWoeO5",
        "outputId": "c79c5d29-5e86-430d-e5f4-71bc7bbd3b5b"
      },
      "source": [
        "plt.subplots(figsize=(10,5))\n",
        "sns.barplot(x='fuel_type_code_pudl', y=\"utility_id_ferc1\",data=df)"
      ],
      "execution_count": 31,
      "outputs": [
        {
          "output_type": "execute_result",
          "data": {
            "text/plain": [
              "<matplotlib.axes._subplots.AxesSubplot at 0x7feb79421190>"
            ]
          },
          "metadata": {},
          "execution_count": 31
        },
        {
          "output_type": "display_data",
          "data": {
            "image/png": "[encoded data removed]",
            "text/plain": [
              "<Figure size 720x360 with 1 Axes>"
            ]
          },
          "metadata": {
            "needs_background": "light"
          }
        }
      ]
    },
    {
      "cell_type": "code",
      "metadata": {
        "colab": {
          "base_uri": "https://localhost:8080/",
          "height": 160
        },
        "id": "rKtbOw86o-ns",
        "outputId": "9ab11ea5-d5f0-49cb-bba2-174b68949a72"
      },
      "source": [
        " df_1_ = pd.DataFrame(['fuel_cost_per_unit_burned'])\n",
        "corr = df_1.corr()\n",
        "corr.style.background_gradient(cmap='coolwarm')"
      ],
      "execution_count": 32,
      "outputs": [
        {
          "output_type": "execute_result",
          "data": {
            "text/html": [
              "<style  type=\"text/css\" >\n",
              "#T_8b938d8a_0193_11ec_a97a_0242ac1c0002row0_col0,#T_8b938d8a_0193_11ec_a97a_0242ac1c0002row1_col1,#T_8b938d8a_0193_11ec_a97a_0242ac1c0002row2_col2,#T_8b938d8a_0193_11ec_a97a_0242ac1c0002row3_col3,#T_8b938d8a_0193_11ec_a97a_0242ac1c0002row4_col4,#T_8b938d8a_0193_11ec_a97a_0242ac1c0002row5_col5,#T_8b938d8a_0193_11ec_a97a_0242ac1c0002row6_col6{\n",
              "            background-color:  #b40426;\n",
              "            color:  #f1f1f1;\n",
              "        }#T_8b938d8a_0193_11ec_a97a_0242ac1c0002row0_col1{\n",
              "            background-color:  #7597f6;\n",
              "            color:  #000000;\n",
              "        }#T_8b938d8a_0193_11ec_a97a_0242ac1c0002row0_col2{\n",
              "            background-color:  #4055c8;\n",
              "            color:  #f1f1f1;\n",
              "        }#T_8b938d8a_0193_11ec_a97a_0242ac1c0002row0_col3,#T_8b938d8a_0193_11ec_a97a_0242ac1c0002row6_col4{\n",
              "            background-color:  #455cce;\n",
              "            color:  #f1f1f1;\n",
              "        }#T_8b938d8a_0193_11ec_a97a_0242ac1c0002row0_col4,#T_8b938d8a_0193_11ec_a97a_0242ac1c0002row0_col5,#T_8b938d8a_0193_11ec_a97a_0242ac1c0002row1_col3,#T_8b938d8a_0193_11ec_a97a_0242ac1c0002row1_col5,#T_8b938d8a_0193_11ec_a97a_0242ac1c0002row2_col6,#T_8b938d8a_0193_11ec_a97a_0242ac1c0002row3_col0,#T_8b938d8a_0193_11ec_a97a_0242ac1c0002row3_col1,#T_8b938d8a_0193_11ec_a97a_0242ac1c0002row3_col2,#T_8b938d8a_0193_11ec_a97a_0242ac1c0002row3_col6{\n",
              "            background-color:  #3b4cc0;\n",
              "            color:  #f1f1f1;\n",
              "        }#T_8b938d8a_0193_11ec_a97a_0242ac1c0002row0_col6,#T_8b938d8a_0193_11ec_a97a_0242ac1c0002row2_col0{\n",
              "            background-color:  #3d50c3;\n",
              "            color:  #f1f1f1;\n",
              "        }#T_8b938d8a_0193_11ec_a97a_0242ac1c0002row1_col0{\n",
              "            background-color:  #6a8bef;\n",
              "            color:  #000000;\n",
              "        }#T_8b938d8a_0193_11ec_a97a_0242ac1c0002row1_col2,#T_8b938d8a_0193_11ec_a97a_0242ac1c0002row4_col3,#T_8b938d8a_0193_11ec_a97a_0242ac1c0002row5_col3{\n",
              "            background-color:  #5673e0;\n",
              "            color:  #000000;\n",
              "        }#T_8b938d8a_0193_11ec_a97a_0242ac1c0002row1_col4,#T_8b938d8a_0193_11ec_a97a_0242ac1c0002row5_col0,#T_8b938d8a_0193_11ec_a97a_0242ac1c0002row5_col4{\n",
              "            background-color:  #4961d2;\n",
              "            color:  #f1f1f1;\n",
              "        }#T_8b938d8a_0193_11ec_a97a_0242ac1c0002row1_col6,#T_8b938d8a_0193_11ec_a97a_0242ac1c0002row2_col4,#T_8b938d8a_0193_11ec_a97a_0242ac1c0002row6_col5{\n",
              "            background-color:  #3f53c6;\n",
              "            color:  #f1f1f1;\n",
              "        }#T_8b938d8a_0193_11ec_a97a_0242ac1c0002row2_col1{\n",
              "            background-color:  #5e7de7;\n",
              "            color:  #000000;\n",
              "        }#T_8b938d8a_0193_11ec_a97a_0242ac1c0002row2_col3,#T_8b938d8a_0193_11ec_a97a_0242ac1c0002row3_col4,#T_8b938d8a_0193_11ec_a97a_0242ac1c0002row4_col5{\n",
              "            background-color:  #4257c9;\n",
              "            color:  #f1f1f1;\n",
              "        }#T_8b938d8a_0193_11ec_a97a_0242ac1c0002row2_col5{\n",
              "            background-color:  #3e51c5;\n",
              "            color:  #f1f1f1;\n",
              "        }#T_8b938d8a_0193_11ec_a97a_0242ac1c0002row3_col5,#T_8b938d8a_0193_11ec_a97a_0242ac1c0002row4_col6,#T_8b938d8a_0193_11ec_a97a_0242ac1c0002row5_col6{\n",
              "            background-color:  #3c4ec2;\n",
              "            color:  #f1f1f1;\n",
              "        }#T_8b938d8a_0193_11ec_a97a_0242ac1c0002row4_col0{\n",
              "            background-color:  #4358cb;\n",
              "            color:  #f1f1f1;\n",
              "        }#T_8b938d8a_0193_11ec_a97a_0242ac1c0002row4_col1{\n",
              "            background-color:  #5d7ce6;\n",
              "            color:  #000000;\n",
              "        }#T_8b938d8a_0193_11ec_a97a_0242ac1c0002row4_col2{\n",
              "            background-color:  #4c66d6;\n",
              "            color:  #000000;\n",
              "        }#T_8b938d8a_0193_11ec_a97a_0242ac1c0002row5_col1{\n",
              "            background-color:  #5572df;\n",
              "            color:  #000000;\n",
              "        }#T_8b938d8a_0193_11ec_a97a_0242ac1c0002row5_col2{\n",
              "            background-color:  #506bda;\n",
              "            color:  #000000;\n",
              "        }#T_8b938d8a_0193_11ec_a97a_0242ac1c0002row6_col0{\n",
              "            background-color:  #4f69d9;\n",
              "            color:  #000000;\n",
              "        }#T_8b938d8a_0193_11ec_a97a_0242ac1c0002row6_col1{\n",
              "            background-color:  #5b7ae5;\n",
              "            color:  #000000;\n",
              "        }#T_8b938d8a_0193_11ec_a97a_0242ac1c0002row6_col2{\n",
              "            background-color:  #516ddb;\n",
              "            color:  #000000;\n",
              "        }#T_8b938d8a_0193_11ec_a97a_0242ac1c0002row6_col3{\n",
              "            background-color:  #5875e1;\n",
              "            color:  #000000;\n",
              "        }</style><table id=\"T_8b938d8a_0193_11ec_a97a_0242ac1c0002\" ><thead>    <tr>        <th class=\"blank level0\" ></th>        <th class=\"col_heading level0 col0\" >utility_id_ferc1</th>        <th class=\"col_heading level0 col1\" >report_year</th>        <th class=\"col_heading level0 col2\" >fuel_qty_burned</th>        <th class=\"col_heading level0 col3\" >fuel_mmbtu_per_unit</th>        <th class=\"col_heading level0 col4\" >fuel_cost_per_unit_burned</th>        <th class=\"col_heading level0 col5\" >fuel_cost_per_unit_delivered</th>        <th class=\"col_heading level0 col6\" >fuel_cost_per_mmbtu</th>    </tr></thead><tbody>\n",
              "                <tr>\n",
              "                        <th id=\"T_8b938d8a_0193_11ec_a97a_0242ac1c0002level0_row0\" class=\"row_heading level0 row0\" >utility_id_ferc1</th>\n",
              "                        <td id=\"T_8b938d8a_0193_11ec_a97a_0242ac1c0002row0_col0\" class=\"data row0 col0\" >1.000000</td>\n",
              "                        <td id=\"T_8b938d8a_0193_11ec_a97a_0242ac1c0002row0_col1\" class=\"data row0 col1\" >0.093267</td>\n",
              "                        <td id=\"T_8b938d8a_0193_11ec_a97a_0242ac1c0002row0_col2\" class=\"data row0 col2\" >-0.058025</td>\n",
              "                        <td id=\"T_8b938d8a_0193_11ec_a97a_0242ac1c0002row0_col3\" class=\"data row0 col3\" >-0.069000</td>\n",
              "                        <td id=\"T_8b938d8a_0193_11ec_a97a_0242ac1c0002row0_col4\" class=\"data row0 col4\" >-0.037868</td>\n",
              "                        <td id=\"T_8b938d8a_0193_11ec_a97a_0242ac1c0002row0_col5\" class=\"data row0 col5\" >-0.016434</td>\n",
              "                        <td id=\"T_8b938d8a_0193_11ec_a97a_0242ac1c0002row0_col6\" class=\"data row0 col6\" >0.005884</td>\n",
              "            </tr>\n",
              "            <tr>\n",
              "                        <th id=\"T_8b938d8a_0193_11ec_a97a_0242ac1c0002level0_row1\" class=\"row_heading level0 row1\" >report_year</th>\n",
              "                        <td id=\"T_8b938d8a_0193_11ec_a97a_0242ac1c0002row1_col0\" class=\"data row1 col0\" >0.093267</td>\n",
              "                        <td id=\"T_8b938d8a_0193_11ec_a97a_0242ac1c0002row1_col1\" class=\"data row1 col1\" >1.000000</td>\n",
              "                        <td id=\"T_8b938d8a_0193_11ec_a97a_0242ac1c0002row1_col2\" class=\"data row1 col2\" >0.015894</td>\n",
              "                        <td id=\"T_8b938d8a_0193_11ec_a97a_0242ac1c0002row1_col3\" class=\"data row1 col3\" >-0.110421</td>\n",
              "                        <td id=\"T_8b938d8a_0193_11ec_a97a_0242ac1c0002row1_col4\" class=\"data row1 col4\" >0.013495</td>\n",
              "                        <td id=\"T_8b938d8a_0193_11ec_a97a_0242ac1c0002row1_col5\" class=\"data row1 col5\" >-0.014123</td>\n",
              "                        <td id=\"T_8b938d8a_0193_11ec_a97a_0242ac1c0002row1_col6\" class=\"data row1 col6\" >0.010304</td>\n",
              "            </tr>\n",
              "            <tr>\n",
              "                        <th id=\"T_8b938d8a_0193_11ec_a97a_0242ac1c0002level0_row2\" class=\"row_heading level0 row2\" >fuel_qty_burned</th>\n",
              "                        <td id=\"T_8b938d8a_0193_11ec_a97a_0242ac1c0002row2_col0\" class=\"data row2 col0\" >-0.058025</td>\n",
              "                        <td id=\"T_8b938d8a_0193_11ec_a97a_0242ac1c0002row2_col1\" class=\"data row2 col1\" >0.015894</td>\n",
              "                        <td id=\"T_8b938d8a_0193_11ec_a97a_0242ac1c0002row2_col2\" class=\"data row2 col2\" >1.000000</td>\n",
              "                        <td id=\"T_8b938d8a_0193_11ec_a97a_0242ac1c0002row2_col3\" class=\"data row2 col3\" >-0.082971</td>\n",
              "                        <td id=\"T_8b938d8a_0193_11ec_a97a_0242ac1c0002row2_col4\" class=\"data row2 col4\" >-0.019147</td>\n",
              "                        <td id=\"T_8b938d8a_0193_11ec_a97a_0242ac1c0002row2_col5\" class=\"data row2 col5\" >-0.003671</td>\n",
              "                        <td id=\"T_8b938d8a_0193_11ec_a97a_0242ac1c0002row2_col6\" class=\"data row2 col6\" >-0.001879</td>\n",
              "            </tr>\n",
              "            <tr>\n",
              "                        <th id=\"T_8b938d8a_0193_11ec_a97a_0242ac1c0002level0_row3\" class=\"row_heading level0 row3\" >fuel_mmbtu_per_unit</th>\n",
              "                        <td id=\"T_8b938d8a_0193_11ec_a97a_0242ac1c0002row3_col0\" class=\"data row3 col0\" >-0.069000</td>\n",
              "                        <td id=\"T_8b938d8a_0193_11ec_a97a_0242ac1c0002row3_col1\" class=\"data row3 col1\" >-0.110421</td>\n",
              "                        <td id=\"T_8b938d8a_0193_11ec_a97a_0242ac1c0002row3_col2\" class=\"data row3 col2\" >-0.082971</td>\n",
              "                        <td id=\"T_8b938d8a_0193_11ec_a97a_0242ac1c0002row3_col3\" class=\"data row3 col3\" >1.000000</td>\n",
              "                        <td id=\"T_8b938d8a_0193_11ec_a97a_0242ac1c0002row3_col4\" class=\"data row3 col4\" >-0.010065</td>\n",
              "                        <td id=\"T_8b938d8a_0193_11ec_a97a_0242ac1c0002row3_col5\" class=\"data row3 col5\" >-0.009104</td>\n",
              "                        <td id=\"T_8b938d8a_0193_11ec_a97a_0242ac1c0002row3_col6\" class=\"data row3 col6\" >-0.005595</td>\n",
              "            </tr>\n",
              "            <tr>\n",
              "                        <th id=\"T_8b938d8a_0193_11ec_a97a_0242ac1c0002level0_row4\" class=\"row_heading level0 row4\" >fuel_cost_per_unit_burned</th>\n",
              "                        <td id=\"T_8b938d8a_0193_11ec_a97a_0242ac1c0002row4_col0\" class=\"data row4 col0\" >-0.037868</td>\n",
              "                        <td id=\"T_8b938d8a_0193_11ec_a97a_0242ac1c0002row4_col1\" class=\"data row4 col1\" >0.013495</td>\n",
              "                        <td id=\"T_8b938d8a_0193_11ec_a97a_0242ac1c0002row4_col2\" class=\"data row4 col2\" >-0.019147</td>\n",
              "                        <td id=\"T_8b938d8a_0193_11ec_a97a_0242ac1c0002row4_col3\" class=\"data row4 col3\" >-0.010065</td>\n",
              "                        <td id=\"T_8b938d8a_0193_11ec_a97a_0242ac1c0002row4_col4\" class=\"data row4 col4\" >1.000000</td>\n",
              "                        <td id=\"T_8b938d8a_0193_11ec_a97a_0242ac1c0002row4_col5\" class=\"data row4 col5\" >0.011002</td>\n",
              "                        <td id=\"T_8b938d8a_0193_11ec_a97a_0242ac1c0002row4_col6\" class=\"data row4 col6\" >-0.000411</td>\n",
              "            </tr>\n",
              "            <tr>\n",
              "                        <th id=\"T_8b938d8a_0193_11ec_a97a_0242ac1c0002level0_row5\" class=\"row_heading level0 row5\" >fuel_cost_per_unit_delivered</th>\n",
              "                        <td id=\"T_8b938d8a_0193_11ec_a97a_0242ac1c0002row5_col0\" class=\"data row5 col0\" >-0.016434</td>\n",
              "                        <td id=\"T_8b938d8a_0193_11ec_a97a_0242ac1c0002row5_col1\" class=\"data row5 col1\" >-0.014123</td>\n",
              "                        <td id=\"T_8b938d8a_0193_11ec_a97a_0242ac1c0002row5_col2\" class=\"data row5 col2\" >-0.003671</td>\n",
              "                        <td id=\"T_8b938d8a_0193_11ec_a97a_0242ac1c0002row5_col3\" class=\"data row5 col3\" >-0.009104</td>\n",
              "                        <td id=\"T_8b938d8a_0193_11ec_a97a_0242ac1c0002row5_col4\" class=\"data row5 col4\" >0.011002</td>\n",
              "                        <td id=\"T_8b938d8a_0193_11ec_a97a_0242ac1c0002row5_col5\" class=\"data row5 col5\" >1.000000</td>\n",
              "                        <td id=\"T_8b938d8a_0193_11ec_a97a_0242ac1c0002row5_col6\" class=\"data row5 col6\" >-0.000104</td>\n",
              "            </tr>\n",
              "            <tr>\n",
              "                        <th id=\"T_8b938d8a_0193_11ec_a97a_0242ac1c0002level0_row6\" class=\"row_heading level0 row6\" >fuel_cost_per_mmbtu</th>\n",
              "                        <td id=\"T_8b938d8a_0193_11ec_a97a_0242ac1c0002row6_col0\" class=\"data row6 col0\" >0.005884</td>\n",
              "                        <td id=\"T_8b938d8a_0193_11ec_a97a_0242ac1c0002row6_col1\" class=\"data row6 col1\" >0.010304</td>\n",
              "                        <td id=\"T_8b938d8a_0193_11ec_a97a_0242ac1c0002row6_col2\" class=\"data row6 col2\" >-0.001879</td>\n",
              "                        <td id=\"T_8b938d8a_0193_11ec_a97a_0242ac1c0002row6_col3\" class=\"data row6 col3\" >-0.005595</td>\n",
              "                        <td id=\"T_8b938d8a_0193_11ec_a97a_0242ac1c0002row6_col4\" class=\"data row6 col4\" >-0.000411</td>\n",
              "                        <td id=\"T_8b938d8a_0193_11ec_a97a_0242ac1c0002row6_col5\" class=\"data row6 col5\" >-0.000104</td>\n",
              "                        <td id=\"T_8b938d8a_0193_11ec_a97a_0242ac1c0002row6_col6\" class=\"data row6 col6\" >1.000000</td>\n",
              "            </tr>\n",
              "    </tbody></table>"
            ],
            "text/plain": [
              "<pandas.io.formats.style.Styler at 0x7feb78c61f50>"
            ]
          },
          "metadata": {},
          "execution_count": 32
        }
      ]
    }
  ]
}